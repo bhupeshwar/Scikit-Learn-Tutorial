{
 "cells": [
  {
   "cell_type": "markdown",
   "id": "6d5ce3bd-4ffe-431d-9a7f-80012c3701ee",
   "metadata": {},
   "source": [
    "# Logistic Regression"
   ]
  },
  {
   "cell_type": "code",
   "execution_count": null,
   "id": "d6f25a50-7265-4f74-88c1-0e6ae15b96c6",
   "metadata": {},
   "outputs": [],
   "source": [
    "# Problem Statement - Logistic Regression\n",
    "'''In an e-commerce company, the management wants to predict \n",
    "whether a customer will purchase a high-value product based \n",
    "on their age, time spent on the website, and whether they \n",
    "have added items to their cart. The goal is to optimize \n",
    "marketing strategies by targeting potential customers more \n",
    "effectively, thereby increasing sales and revenue.\"'''"
   ]
  },
  {
   "cell_type": "code",
   "execution_count": 17,
   "id": "7a93cef6-bb64-451a-8330-db7908969d1e",
   "metadata": {},
   "outputs": [
    {
     "name": "stdout",
     "output_type": "stream",
     "text": [
      "Model Accuracy: 1.0\n"
     ]
    },
    {
     "name": "stdin",
     "output_type": "stream",
     "text": [
      "Enter Customer age: 25\n",
      "Enter Time spent on website:  30\n",
      "Enter 1 if added to cart, else 0:  1\n"
     ]
    },
    {
     "name": "stdout",
     "output_type": "stream",
     "text": [
      "The customer is unlikely to purchase.\n"
     ]
    }
   ],
   "source": [
    "import numpy as np\n",
    "from sklearn.model_selection import train_test_split\n",
    "from sklearn.linear_model import LogisticRegression\n",
    "\n",
    "X = np.array([[25,30,0], [30, 40, 1], [20, 35, 0], [35, 45, 1]])\n",
    "y = np.array([0,1,0,1])\n",
    "\n",
    "X_train, X_test, y_train, y_test = train_test_split(X,y, test_size = 0.2 , random_state = 42)\n",
    "\n",
    "model = LogisticRegression()\n",
    "model.fit(X_train, y_train)\n",
    "\n",
    "accuracy = model.score(X_test, y_test)\n",
    "print(f\"Model Accuracy: {accuracy}\")\n",
    "\n",
    "user_age = float(input(\"Enter Customer age:\"))\n",
    "user_time_spent = float(input(\"Enter Time spent on website: \") )\n",
    "user_added_to_cart = int(input(\"Enter 1 if added to cart, else 0: \"))\n",
    "user_data = np.array([[user_age, user_time_spent, user_added_to_cart]])\n",
    "\n",
    "prediction = model.predict(user_data)\n",
    "if prediction[0] == 1:\n",
    "    print(\"The customer is likely to purchase.\")\n",
    "else:\n",
    "    print(\"The customer is unlikely to purchase.\")\n",
    "\n"
   ]
  },
  {
   "cell_type": "code",
   "execution_count": null,
   "id": "aa172da9-df3f-4c8f-b5dc-8ebbf6f3c61b",
   "metadata": {},
   "outputs": [],
   "source": []
  }
 ],
 "metadata": {
  "kernelspec": {
   "display_name": "Python 3 (ipykernel)",
   "language": "python",
   "name": "python3"
  },
  "language_info": {
   "codemirror_mode": {
    "name": "ipython",
    "version": 3
   },
   "file_extension": ".py",
   "mimetype": "text/x-python",
   "name": "python",
   "nbconvert_exporter": "python",
   "pygments_lexer": "ipython3",
   "version": "3.12.6"
  }
 },
 "nbformat": 4,
 "nbformat_minor": 5
}
